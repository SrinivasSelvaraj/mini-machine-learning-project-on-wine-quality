{
  "nbformat": 4,
  "nbformat_minor": 0,
  "metadata": {
    "colab": {
      "provenance": [],
      "toc_visible": true,
      "authorship_tag": "ABX9TyPjhNi50yB3aT5fc/OR0/JE",
      "include_colab_link": true
    },
    "kernelspec": {
      "name": "python3",
      "display_name": "Python 3"
    },
    "language_info": {
      "name": "python"
    }
  },
  "cells": [
    {
      "cell_type": "markdown",
      "metadata": {
        "id": "view-in-github",
        "colab_type": "text"
      },
      "source": [
        "<a href=\"https://colab.research.google.com/github/SrinivasSelvaraj/mini-machine-learning-project-on-wine-quality/blob/main/PROJECT_ON_SENTIMENTAL_ANALYSIS%20using%20Naive%20Bayes%20classifier.ipynb\" target=\"_parent\"><img src=\"https://colab.research.google.com/assets/colab-badge.svg\" alt=\"Open In Colab\"/></a>"
      ]
    },
    {
      "cell_type": "markdown",
      "source": [
        "## **Sentiment Analysis**\n",
        "We will implement Naive Bayes classifier to perform sentiment analysis on movie reviews. We will take 1000 positive and 1000 negative reviews and mix them, split them into training and testing dataset. Train the classifier on training dataset and then use it to predict the sentiment on testing datasets"
      ],
      "metadata": {
        "id": "wk0favNeEuLR"
      }
    },
    {
      "cell_type": "code",
      "source": [
        "import pandas as pd\n",
        "import numpy as np\n",
        "import nltk\n",
        "from nltk import word_tokenize"
      ],
      "metadata": {
        "id": "K8_Z-0uhEwO8"
      },
      "execution_count": 10,
      "outputs": []
    },
    {
      "source": [
        "!pip install nltk"
      ],
      "cell_type": "code",
      "metadata": {
        "colab": {
          "base_uri": "https://localhost:8080/"
        },
        "id": "O88hz9_xD70N",
        "outputId": "518101df-685c-4bc6-c7c7-534d93d07712"
      },
      "execution_count": 11,
      "outputs": [
        {
          "output_type": "stream",
          "name": "stdout",
          "text": [
            "Requirement already satisfied: nltk in /usr/local/lib/python3.10/dist-packages (3.8.1)\n",
            "Requirement already satisfied: click in /usr/local/lib/python3.10/dist-packages (from nltk) (8.1.7)\n",
            "Requirement already satisfied: joblib in /usr/local/lib/python3.10/dist-packages (from nltk) (1.3.2)\n",
            "Requirement already satisfied: regex>=2021.8.3 in /usr/local/lib/python3.10/dist-packages (from nltk) (2023.12.25)\n",
            "Requirement already satisfied: tqdm in /usr/local/lib/python3.10/dist-packages (from nltk) (4.66.2)\n"
          ]
        }
      ]
    },
    {
      "source": [
        "import nltk\n",
        "nltk.download('punkt')"
      ],
      "cell_type": "code",
      "metadata": {
        "colab": {
          "base_uri": "https://localhost:8080/"
        },
        "id": "tihgG9SHD-OW",
        "outputId": "11513a09-085b-44a0-daf3-832b2eb66667"
      },
      "execution_count": 12,
      "outputs": [
        {
          "output_type": "stream",
          "name": "stderr",
          "text": [
            "[nltk_data] Downloading package punkt to /root/nltk_data...\n",
            "[nltk_data]   Package punkt is already up-to-date!\n"
          ]
        },
        {
          "output_type": "execute_result",
          "data": {
            "text/plain": [
              "True"
            ]
          },
          "metadata": {},
          "execution_count": 12
        }
      ]
    },
    {
      "cell_type": "code",
      "source": [
        "import pandas as pd\n",
        "import numpy as np\n",
        "import nltk\n",
        "from nltk import word_tokenize\n",
        "from nltk.corpus import movie_reviews\n",
        "from sklearn.feature_extraction.text import CountVectorizer\n",
        "from sklearn.model_selection import train_test_split\n",
        "from sklearn.naive_bayes import MultinomialNB\n",
        "from sklearn.metrics import accuracy_score, classification_report\n",
        "\n",
        "# Download the movie_reviews dataset\n",
        "nltk.download('movie_reviews')\n",
        "\n",
        "# Load the movie reviews\n",
        "documents = [(list(movie_reviews.words(fileid)), category)\n",
        "             for category in movie_reviews.categories()\n",
        "             for fileid in movie_reviews.fileids(category)]\n",
        "\n",
        "# Shuffle the documents\n",
        "np.random.shuffle(documents)\n",
        "\n",
        "# Split the documents into features and labels\n",
        "all_words = nltk.FreqDist(w.lower() for w in movie_reviews.words())\n",
        "word_features = list(all_words)[:2000]\n",
        "\n",
        "def document_features(document):\n",
        "    document_words = set(document)\n",
        "    features = {}\n",
        "    for word in word_features:\n",
        "        features[f'contains({word})'] = (word in document_words)\n",
        "    return features\n",
        "\n",
        "# Extract features from the documents\n",
        "featuresets = [(document_features(d), c) for (d,c) in documents]\n",
        "\n",
        "# Split the featuresets into training and testing sets\n",
        "train_set, test_set = featuresets[200:], featuresets[:200]\n",
        "\n",
        "# Train the Naive Bayes classifier\n",
        "classifier = nltk.NaiveBayesClassifier.train(train_set)\n",
        "\n",
        "# Evaluate the classifier\n",
        "print(\"Accuracy:\", nltk.classify.accuracy(classifier, test_set))\n",
        "print(classifier.show_most_informative_features(5))\n",
        "\n",
        "# Predict sentiment for new reviews\n",
        "new_reviews = [\"This movie was amazing!\", \"The plot was boring and predictable.\"]\n",
        "for review in new_reviews:\n",
        "    features = document_features(word_tokenize(review))\n",
        "    prediction = classifier.classify(features)\n",
        "    print(f\"Review: {review}\\nSentiment: {prediction}\\n\")\n"
      ],
      "metadata": {
        "id": "M1U4CvGDFdQE",
        "colab": {
          "base_uri": "https://localhost:8080/"
        },
        "outputId": "c938e446-77c1-48f9-9384-9de34f37e1dc"
      },
      "execution_count": 13,
      "outputs": [
        {
          "output_type": "stream",
          "name": "stderr",
          "text": [
            "[nltk_data] Downloading package movie_reviews to /root/nltk_data...\n",
            "[nltk_data]   Package movie_reviews is already up-to-date!\n"
          ]
        },
        {
          "output_type": "stream",
          "name": "stdout",
          "text": [
            "Accuracy: 0.81\n",
            "Most Informative Features\n",
            "   contains(outstanding) = True              pos : neg    =     12.3 : 1.0\n",
            "         contains(mulan) = True              pos : neg    =      7.6 : 1.0\n",
            "        contains(seagal) = True              neg : pos    =      7.4 : 1.0\n",
            "         contains(damon) = True              pos : neg    =      6.1 : 1.0\n",
            "          contains(lame) = True              neg : pos    =      5.9 : 1.0\n",
            "None\n",
            "Review: This movie was amazing!\n",
            "Sentiment: neg\n",
            "\n",
            "Review: The plot was boring and predictable.\n",
            "Sentiment: neg\n",
            "\n"
          ]
        }
      ]
    }
  ]
}